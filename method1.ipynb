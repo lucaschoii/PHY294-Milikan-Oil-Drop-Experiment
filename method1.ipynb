{
 "cells": [
  {
   "cell_type": "markdown",
   "metadata": {},
   "source": [
    "## Method 1\n",
    "\n"
   ]
  },
  {
   "cell_type": "code",
   "execution_count": 2,
   "metadata": {},
   "outputs": [],
   "source": [
    "import pandas as pd\n",
    "import numpy as np\n",
    "import math\n",
    "import matplotlib.pyplot as plt\n",
    "\n",
    "rho_oil = 875.3\n",
    "rho_air = 1.204\n",
    "g = 9.80\n",
    "nu = 1.827e-5\n",
    "d = 6.0e-3\n",
    "precision = 19\n",
    "\n",
    "velocities_file = '/Users/lucaschoi/Documents/GitHub/PHY294-Milikan-Oil-Drop-Experiment/velocities.tsv'\n",
    "method1_results_file = '/Users/lucaschoi/Documents/GitHub/PHY294-Milikan-Oil-Drop-Experiment/method1.py'\n",
    "\n",
    "charges = []\n",
    "charge_uncs = []\n",
    "V_unc = 0.3\n",
    "\n",
    "velocities_df = pd.read_csv(velocities_file, sep='\\t')\n",
    "\n"
   ]
  },
  {
   "cell_type": "code",
   "execution_count": 3,
   "metadata": {},
   "outputs": [],
   "source": [
    "for _, row in velocities_df.iterrows():\n",
    "    try:\n",
    "        V_stop = row['stopping_voltage']\n",
    "        v_d = row['v_fall']\n",
    "        v_d_unc = row['v_fall_unc']\n",
    "\n",
    "        q = v_d ** (3/2) / V_stop\n",
    "\n",
    "        # Calculate the uncertainty in charge\n",
    "        partial_q_vd = (3 / 2) * (v_d ** (1/2)) / V_stop\n",
    "        partial_q_V_stop = -(v_d ** (3/2)) / (V_stop ** 2)\n",
    "        q_unc = np.sqrt((partial_q_vd * v_d_unc) ** 2 + (partial_q_V_stop * V_unc) ** 2)\n",
    "        charges.append(q)\n",
    "        charge_uncs.append(q_unc)\n",
    "        # print(f'q = {q:.10} \\pm {q_unc:.10} C')\n",
    "\n",
    "    except Exception as e:\n",
    "        print(f\"{e}\")\n"
   ]
  },
  {
   "cell_type": "code",
   "execution_count": 22,
   "metadata": {},
   "outputs": [],
   "source": [
    "def estimate_elementary_charge(q_list, e_min=1e-19, e_max=2e-19, num_steps=1000000):\n",
    "    \"\"\"\n",
    "    Estimate the elementary charge by trying possible divisors of q_list.\n",
    "    \n",
    "    Args:\n",
    "        q_list (array-like): Measured charges in Coulombs\n",
    "        e_min, e_max: Range to scan for candidate e\n",
    "        num_steps: Number of candidate e values to test\n",
    "    \n",
    "    Returns:\n",
    "        best_e: Estimated elementary charge\n",
    "        scores: List of scores for all candidate e values\n",
    "    \"\"\"\n",
    "    q_array = np.array(q_list)\n",
    "    candidate_es = np.linspace(e_min, e_max, num_steps)\n",
    "    best_score = float('inf')\n",
    "    best_e = None\n",
    "    scores = []\n",
    "\n",
    "    for e in candidate_es:\n",
    "\n",
    "        # Divide all q values by e and check how close to nearest integer\n",
    "        multiples = q_array / e\n",
    "        residuals = np.abs(multiples - np.round(multiples))\n",
    "        score = np.mean(residuals) \n",
    "        scores.append(score)\n",
    "        \n",
    "        if score < best_score:\n",
    "            best_score = score\n",
    "            best_e = e\n",
    "\n",
    "    return best_e, scores, candidate_es"
   ]
  },
  {
   "cell_type": "code",
   "execution_count": 26,
   "metadata": {},
   "outputs": [
    {
     "name": "stdout",
     "output_type": "stream",
     "text": [
      "6.8562304340189e-10\n"
     ]
    }
   ],
   "source": [
    "print(np.min(charges))"
   ]
  },
  {
   "cell_type": "code",
   "execution_count": 28,
   "metadata": {},
   "outputs": [
    {
     "name": "stdout",
     "output_type": "stream",
     "text": [
      "Testing range: e_min = 1.000e-11, e_max = 1.000e-10\n",
      "Testing range: e_min = 1.000e-12, e_max = 1.000e-11\n",
      "Testing range: e_min = 1.000e-13, e_max = 1.000e-12\n",
      "Testing range: e_min = 1.000e-14, e_max = 1.000e-13\n",
      "Testing range: e_min = 1.000e-15, e_max = 1.000e-14\n",
      "Testing range: e_min = 1.000e-16, e_max = 1.000e-15\n",
      "Testing range: e_min = 1.000e-17, e_max = 1.000e-16\n",
      "Testing range: e_min = 1.000e-18, e_max = 1.000e-17\n",
      "Testing range: e_min = 1.000e-19, e_max = 1.000e-18\n",
      "Testing range: e_min = 1.000e-20, e_max = 1.000e-19\n",
      "Testing range: e_min = 1.000e-21, e_max = 1.000e-20\n",
      "Testing range: e_min = 1.000e-22, e_max = 1.000e-21\n",
      "\n",
      "Summary of best estimates:\n",
      "Range [1.0e-11, 1.0e-10] → Best e = 5.026e-11 C with score 0.18294540042540974\n",
      "Range [1.0e-12, 1.0e-11] → Best e = 1.274e-12 C with score 0.16893857984391883\n",
      "Range [1.0e-13, 1.0e-12] → Best e = 6.462e-13 C with score 0.16090874636139751\n",
      "Range [1.0e-14, 1.0e-13] → Best e = 4.560e-14 C with score 0.1564997278511845\n",
      "Range [1.0e-15, 1.0e-14] → Best e = 3.545e-15 C with score 0.15594486701393537\n",
      "Range [1.0e-16, 1.0e-15] → Best e = 9.881e-16 C with score 0.15672922758933375\n",
      "Range [1.0e-17, 1.0e-16] → Best e = 9.849e-17 C with score 0.15602250459293523\n",
      "Range [1.0e-18, 1.0e-17] → Best e = 6.893e-18 C with score 0.15844958085639804\n",
      "Range [1.0e-19, 1.0e-18] → Best e = 3.608e-19 C with score 0.15704145618513518\n",
      "Range [1.0e-20, 1.0e-19] → Best e = 5.917e-20 C with score 0.15015258041082644\n",
      "Range [1.0e-21, 1.0e-20] → Best e = 6.490e-21 C with score 0.13670049929151348\n",
      "Range [1.0e-22, 1.0e-21] → Best e = 5.815e-22 C with score 0.15900256587009803\n"
     ]
    }
   ],
   "source": [
    "e_max = 1e-10\n",
    "e_min = 1e-21\n",
    "estimated_e = []\n",
    "probe_min = e_min + 1\n",
    "probe_max = e_max\n",
    "\n",
    "while probe_min > e_min:\n",
    "    probe_min = probe_max / 10\n",
    "    probe_max = probe_max\n",
    "    print(f\"Testing range: e_min = {probe_min:.3e}, e_max = {probe_max:.3e}\")\n",
    "    \n",
    "    best_e, scores, candidate_es = estimate_elementary_charge(\n",
    "        charges,\n",
    "        e_min=probe_min,\n",
    "        e_max=probe_max,\n",
    "        num_steps=1000000\n",
    "    )\n",
    "    \n",
    "    estimated_e.append((probe_min, probe_max, best_e, scores))\n",
    "    probe_max /= 10\n",
    "\n",
    "# Optional: print all results\n",
    "print(\"\\nSummary of best estimates:\")\n",
    "for e_min, e_max, best_e, scores in estimated_e:\n",
    "    print(f\"Range [{e_min:.1e}, {e_max:.1e}] → Best e = {best_e:.3e} C with score {np.min(scores)}\")"
   ]
  },
  {
   "cell_type": "code",
   "execution_count": 29,
   "metadata": {},
   "outputs": [
    {
     "name": "stdout",
     "output_type": "stream",
     "text": [
      "Range [1.0e-21, 1.0e-20] → Best e = 6.490e-21 C with score 0.13670049929151348\n",
      "Range [1.0e-20, 1.0e-19] → Best e = 5.917e-20 C with score 0.15015258041082644\n",
      "Range [1.0e-15, 1.0e-14] → Best e = 3.545e-15 C with score 0.15594486701393537\n",
      "Range [1.0e-17, 1.0e-16] → Best e = 9.849e-17 C with score 0.15602250459293523\n",
      "Range [1.0e-14, 1.0e-13] → Best e = 4.560e-14 C with score 0.1564997278511845\n",
      "Range [1.0e-16, 1.0e-15] → Best e = 9.881e-16 C with score 0.15672922758933375\n",
      "Range [1.0e-19, 1.0e-18] → Best e = 3.608e-19 C with score 0.15704145618513518\n",
      "Range [1.0e-18, 1.0e-17] → Best e = 6.893e-18 C with score 0.15844958085639804\n",
      "Range [1.0e-22, 1.0e-21] → Best e = 5.815e-22 C with score 0.15900256587009803\n",
      "Range [1.0e-13, 1.0e-12] → Best e = 6.462e-13 C with score 0.16090874636139751\n",
      "Range [1.0e-12, 1.0e-11] → Best e = 1.274e-12 C with score 0.16893857984391883\n",
      "Range [1.0e-11, 1.0e-10] → Best e = 5.026e-11 C with score 0.18294540042540974\n"
     ]
    }
   ],
   "source": [
    "best_score = np.inf\n",
    "best_e = None\n",
    "best_e_min = None\n",
    "best_e_max = None\n",
    "\n",
    "# sort the estimated_e by the best score\n",
    "estimated_e.sort(key=lambda x: np.min(x[3]))\n",
    "\n",
    "for e_min, e_max, best_e, scores in estimated_e:\n",
    "    print(f\"Range [{e_min:.1e}, {e_max:.1e}] → Best e = {best_e:.3e} C with score {np.min(scores)}\")"
   ]
  },
  {
   "cell_type": "code",
   "execution_count": 7,
   "metadata": {},
   "outputs": [],
   "source": [
    "def refine_elementary_charge(charges, initial_guess, window=1e-19, levels=5, steps=5000):\n",
    "    \"\"\"\n",
    "    Refine the estimated elementary charge using a narrowing search window.\n",
    "    \n",
    "    Args:\n",
    "        charges: list/array of charge values\n",
    "        initial_guess: starting estimate near 1.6e-19\n",
    "        window: initial search window (+/- around the guess)\n",
    "        levels: number of refinement steps\n",
    "        steps: candidates per level\n",
    "    \n",
    "    Returns:\n",
    "        refined_e: final best estimate\n",
    "        history: list of (e_min, e_max, best_e) at each level\n",
    "    \"\"\"\n",
    "    refined_e = initial_guess\n",
    "    history = []\n",
    "    \n",
    "    for i in range(levels):\n",
    "        e_min = refined_e - window\n",
    "        e_max = refined_e + window\n",
    "        best_e, scores, candidate_es = estimate_elementary_charge(charges, e_min=e_min, e_max=e_max, num_steps=steps)\n",
    "        \n",
    "        history.append((e_min, e_max, best_e))\n",
    "        refined_e = best_e\n",
    "        window /= 10  # narrow the search window\n",
    "    \n",
    "    return refined_e, history\n"
   ]
  },
  {
   "cell_type": "code",
   "execution_count": 8,
   "metadata": {},
   "outputs": [
    {
     "name": "stdout",
     "output_type": "stream",
     "text": [
      "\n",
      "Refined e ≈ 1.266e-19 C\n"
     ]
    }
   ],
   "source": [
    "initial_guess = 1.6e-19\n",
    "refined_e, history = refine_elementary_charge(charges, initial_guess)\n",
    "\n",
    "print(f\"\\nRefined e ≈ {refined_e:.3e} C\")\n"
   ]
  }
 ],
 "metadata": {
  "kernelspec": {
   "display_name": "Python 3",
   "language": "python",
   "name": "python3"
  },
  "language_info": {
   "codemirror_mode": {
    "name": "ipython",
    "version": 3
   },
   "file_extension": ".py",
   "mimetype": "text/x-python",
   "name": "python",
   "nbconvert_exporter": "python",
   "pygments_lexer": "ipython3",
   "version": "3.11.11"
  }
 },
 "nbformat": 4,
 "nbformat_minor": 2
}
